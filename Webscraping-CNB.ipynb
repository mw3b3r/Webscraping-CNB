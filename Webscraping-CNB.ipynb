{
 "cells": [
  {
   "cell_type": "code",
   "execution_count": null,
   "id": "1b594535-f7cc-4609-b60a-7388fd6dae56",
   "metadata": {},
   "outputs": [],
   "source": [
    "# Source url / Zdrojová url:\n",
    "# https://www.cnb.cz/cs/financni-trhy/devizovy-trh/kurzy-devizoveho-trhu/kurzy-devizoveho-trhu/denni_kurz.txt?date=26.11.2024"
   ]
  },
  {
   "cell_type": "code",
   "execution_count": 1,
   "id": "9995a765-ed1c-4459-9462-94f698922567",
   "metadata": {
    "scrolled": true
   },
   "outputs": [
    {
     "name": "stdout",
     "output_type": "stream",
     "text": [
      "13.02.2025 #31\n",
      "země|měna|množství|kód|kurz\n",
      "Austrálie|dolar|1|AUD|15,103\n",
      "Brazílie|real|1|BRL|4,165\n",
      "Bulharsko|lev|1|BGN|12,810\n",
      "Čína|žen-min-pi|1|CNY|3,305\n",
      "Dánsko|koruna|1|DKK|3,359\n",
      "EMU|euro|1|EUR|25,055\n",
      "Filipíny|peso|100|PHP|41,529\n",
      "Hongkong|dolar|1|HKD|3,096\n",
      "Indie|rupie|100|INR|27,719\n",
      "Indonesie|rupie|1000|IDR|1,474\n",
      "Island|koruna|100|ISK|17,067\n",
      "Izrael|nový šekel|1|ILS|6,747\n",
      "Japonsko|jen|100|JPY|15,677\n",
      "Jižní Afrika|rand|1|ZAR|1,302\n",
      "Kanada|dolar|1|CAD|16,883\n",
      "Korejská republika|won|100|KRW|1,662\n",
      "Maďarsko|forint|100|HUF|6,235\n",
      "Malajsie|ringgit|1|MYR|5,412\n",
      "Mexiko|peso|1|MXN|1,168\n",
      "MMF|ZPČ|1|XDR|31,455\n",
      "Norsko|koruna|1|NOK|2,139\n",
      "Nový Zéland|dolar|1|NZD|13,583\n",
      "Polsko|zlotý|1|PLN|6,011\n",
      "Rumunsko|leu|1|RON|5,034\n",
      "Singapur|dolar|1|SGD|17,852\n",
      "Švédsko|koruna|1|SEK|2,222\n",
      "Švýcarsko|frank|1|CHF|26,569\n",
      "Thajsko|baht|100|THB|71,141\n",
      "Turecko|lira|100|TRY|66,780\n",
      "USA|dolar|1|USD|24,111\n",
      "Velká Británie|libra|1|GBP|30,070\n",
      "\n"
     ]
    }
   ],
   "source": [
    "# Download text content / Stažení textového obsahu:\n",
    "\n",
    "import requests\n",
    "import datetime\n",
    "\n",
    "date = datetime.date.today()\n",
    "formatted_date = date.strftime(\"%d.%m.%Y\")\n",
    "url = \"https://www.cnb.cz/cs/financni-trhy/devizovy-trh/kurzy-devizoveho-trhu/kurzy-devizoveho-trhu/denni_kurz.txt?date={formatted_date}\"\n",
    "\n",
    "response = requests.get(url)\n",
    "if response.status_code == 200:\n",
    "    data = response.text  \n",
    "    print(data)\n",
    "else:\n",
    "    print(\"Failed to load data, status code:\", response.status_code)"
   ]
  },
  {
   "cell_type": "code",
   "execution_count": 7,
   "id": "73807545-3bef-421e-8638-7f926ce77c56",
   "metadata": {},
   "outputs": [],
   "source": [
    "import requests\n",
    "import csv\n",
    "\n",
    "response = requests.get(url)\n",
    "response.encoding = \"UTF-8\"  \n",
    "if response.status_code == 200:\n",
    "    data = response.text  \n",
    "else:\n",
    "    print(\"Failed to load data, status code:\", response.status_code)\n",
    "\n",
    "lines = data.splitlines()\n",
    "date_info = lines[0].split(' ')[0]\n",
    "\n",
    "table = lines[2:]  \n",
    "\n",
    "with open(\"CNB_exchange_rates.csv\", \"w\", encoding=\"utf-8\", newline=\"\") as file:\n",
    "    writer = csv.writer(file, delimiter=\"|\")\n",
    "    writer.writerow([\"Datum\", \"Země\", \"Měna\", \"Množství\", \"Kód\", \"Kurz\"]) \n",
    "    for row in table:\n",
    "        writer.writerow([date_info] + row.split(\"|\"))"
   ]
  },
  {
   "cell_type": "code",
   "execution_count": null,
   "id": "5959b12f-3540-43fc-914a-c076685d9ad5",
   "metadata": {},
   "outputs": [],
   "source": []
  }
 ],
 "metadata": {
  "kernelspec": {
   "display_name": "Python 3 (ipykernel)",
   "language": "python",
   "name": "python3"
  },
  "language_info": {
   "codemirror_mode": {
    "name": "ipython",
    "version": 3
   },
   "file_extension": ".py",
   "mimetype": "text/x-python",
   "name": "python",
   "nbconvert_exporter": "python",
   "pygments_lexer": "ipython3",
   "version": "3.12.4"
  }
 },
 "nbformat": 4,
 "nbformat_minor": 5
}
